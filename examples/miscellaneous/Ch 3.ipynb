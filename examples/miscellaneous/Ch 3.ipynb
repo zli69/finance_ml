{
 "cells": [
  {
   "cell_type": "markdown",
   "metadata": {},
   "source": [
    "Download data from [kaggle](https://www.kaggle.com/shivinder/googlestockpricing/data)."
   ]
  },
  {
   "cell_type": "code",
   "execution_count": 1,
   "metadata": {},
   "outputs": [],
   "source": [
    "import pandas as pd\n",
    "\n",
    "df = pd.read_csv(\"C:/Users/staraustin/PycharmProjects/finance_ml/examples/data/TSLA1minETH.csv\")\n",
    "df.index = pd.DatetimeIndex(df['Date'].values)\n",
    "close = df[\"Close\"]"
   ]
  },
  {
   "cell_type": "code",
   "execution_count": 2,
   "metadata": {},
   "outputs": [
    {
     "data": {
      "text/html": [
       "<div>\n",
       "<style scoped>\n",
       "    .dataframe tbody tr th:only-of-type {\n",
       "        vertical-align: middle;\n",
       "    }\n",
       "\n",
       "    .dataframe tbody tr th {\n",
       "        vertical-align: top;\n",
       "    }\n",
       "\n",
       "    .dataframe thead th {\n",
       "        text-align: right;\n",
       "    }\n",
       "</style>\n",
       "<table border=\"1\" class=\"dataframe\">\n",
       "  <thead>\n",
       "    <tr style=\"text-align: right;\">\n",
       "      <th></th>\n",
       "      <th>Date</th>\n",
       "      <th>Open</th>\n",
       "      <th>High</th>\n",
       "      <th>Low</th>\n",
       "      <th>Close</th>\n",
       "      <th>Volume</th>\n",
       "    </tr>\n",
       "  </thead>\n",
       "  <tbody>\n",
       "    <tr>\n",
       "      <th>2020-09-23 11:00:00</th>\n",
       "      <td>20200923 110000</td>\n",
       "      <td>385.62</td>\n",
       "      <td>386.70</td>\n",
       "      <td>385.22</td>\n",
       "      <td>386.54</td>\n",
       "      <td>173996</td>\n",
       "    </tr>\n",
       "    <tr>\n",
       "      <th>2020-09-23 11:01:00</th>\n",
       "      <td>20200923 110100</td>\n",
       "      <td>386.54</td>\n",
       "      <td>387.89</td>\n",
       "      <td>386.11</td>\n",
       "      <td>387.54</td>\n",
       "      <td>188062</td>\n",
       "    </tr>\n",
       "    <tr>\n",
       "      <th>2020-09-23 11:02:00</th>\n",
       "      <td>20200923 110200</td>\n",
       "      <td>387.61</td>\n",
       "      <td>387.95</td>\n",
       "      <td>387.08</td>\n",
       "      <td>387.71</td>\n",
       "      <td>157564</td>\n",
       "    </tr>\n",
       "    <tr>\n",
       "      <th>2020-09-23 11:03:00</th>\n",
       "      <td>20200923 110300</td>\n",
       "      <td>387.67</td>\n",
       "      <td>388.39</td>\n",
       "      <td>387.20</td>\n",
       "      <td>388.37</td>\n",
       "      <td>143958</td>\n",
       "    </tr>\n",
       "    <tr>\n",
       "      <th>2020-09-23 11:04:00</th>\n",
       "      <td>20200923 110400</td>\n",
       "      <td>388.33</td>\n",
       "      <td>388.34</td>\n",
       "      <td>387.18</td>\n",
       "      <td>387.19</td>\n",
       "      <td>168513</td>\n",
       "    </tr>\n",
       "  </tbody>\n",
       "</table>\n",
       "</div>"
      ],
      "text/plain": [
       "                                Date    Open    High     Low   Close  Volume\n",
       "2020-09-23 11:00:00  20200923 110000  385.62  386.70  385.22  386.54  173996\n",
       "2020-09-23 11:01:00  20200923 110100  386.54  387.89  386.11  387.54  188062\n",
       "2020-09-23 11:02:00  20200923 110200  387.61  387.95  387.08  387.71  157564\n",
       "2020-09-23 11:03:00  20200923 110300  387.67  388.39  387.20  388.37  143958\n",
       "2020-09-23 11:04:00  20200923 110400  388.33  388.34  387.18  387.19  168513"
      ]
     },
     "execution_count": 2,
     "metadata": {},
     "output_type": "execute_result"
    }
   ],
   "source": [
    "df.head()"
   ]
  },
  {
   "cell_type": "code",
   "execution_count": 3,
   "metadata": {},
   "outputs": [],
   "source": [
    "import numpy as np\n",
    "import pandas as pd\n",
    "\n",
    "def get_daily_vol(close, span=100):\n",
    "    use_idx = close.index.searchsorted(close.index - pd.Timedelta(days=1))\n",
    "    use_idx = use_idx[use_idx > 0]\n",
    "    # Get rid of duplications in index\n",
    "    use_idx = np.unique(use_idx)\n",
    "    prev_idx = pd.Series(close.index[use_idx - 1], index=close.index[use_idx])\n",
    "    ret = close.loc[prev_idx.index] / close.loc[prev_idx.values].values - 1\n",
    "    vol = ret.ewm(span=span).std()\n",
    "    return vol"
   ]
  },
  {
   "cell_type": "code",
   "execution_count": 4,
   "metadata": {},
   "outputs": [
    {
     "data": {
      "text/plain": [
       "2020-09-23 11:01:00         NaN\n",
       "2020-09-23 11:02:00    0.001519\n",
       "2020-09-23 11:03:00    0.001075\n",
       "2020-09-23 11:04:00    0.002486\n",
       "2020-09-23 11:05:00    0.002846\n",
       "Name: Close, dtype: float64"
      ]
     },
     "execution_count": 4,
     "metadata": {},
     "output_type": "execute_result"
    }
   ],
   "source": [
    "vol = get_daily_vol(df[\"Close\"])\n",
    "vol.head()"
   ]
  },
  {
   "cell_type": "markdown",
   "metadata": {},
   "source": [
    "# 3.1"
   ]
  },
  {
   "cell_type": "code",
   "execution_count": 5,
   "metadata": {},
   "outputs": [],
   "source": [
    "import numbers\n",
    "\n",
    "\n",
    "def cusum_filter(close, h):\n",
    "    # asssum that E y_t = y_{t-1}\n",
    "    t_events = []\n",
    "    s_pos, s_neg = 0, 0\n",
    "    ret = close.pct_change().dropna()\n",
    "    diff = ret.diff().dropna()\n",
    "    # time variant threshold\n",
    "    if isinstance(h, numbers.Number):\n",
    "        h = pd.Series(h, index=diff.index)\n",
    "    h = h.reindex(diff.index, method='bfill')\n",
    "    h = h.dropna()\n",
    "    for t in h.index:\n",
    "        s_pos = max(0, s_pos + diff.loc[t])\n",
    "        s_neg = min(0, s_neg + diff.loc[t])\n",
    "        if s_pos > h.loc[t]:\n",
    "            s_pos = 0\n",
    "            t_events.append(t)\n",
    "        elif s_neg < -h.loc[t]:\n",
    "            s_neg = 0\n",
    "            t_events.append(t)\n",
    "    return pd.DatetimeIndex(t_events)"
   ]
  },
  {
   "cell_type": "code",
   "execution_count": 6,
   "metadata": {},
   "outputs": [
    {
     "data": {
      "text/plain": [
       "DatetimeIndex([], dtype='datetime64[ns]', freq=None)"
      ]
     },
     "execution_count": 6,
     "metadata": {},
     "output_type": "execute_result"
    }
   ],
   "source": [
    "cusum_filter(df[\"Close\"], 0.1)"
   ]
  },
  {
   "cell_type": "code",
   "execution_count": 7,
   "metadata": {},
   "outputs": [
    {
     "data": {
      "text/plain": [
       "DatetimeIndex(['2020-09-23 11:02:00', '2020-09-23 11:03:00',\n",
       "               '2020-09-23 11:04:00', '2020-09-23 11:06:00',\n",
       "               '2020-09-23 11:07:00', '2020-09-23 11:09:00',\n",
       "               '2020-09-23 11:12:00', '2020-09-23 11:14:00',\n",
       "               '2020-09-23 11:16:00', '2020-09-23 11:17:00',\n",
       "               ...\n",
       "               '2020-11-12 17:19:00', '2020-11-12 17:46:00',\n",
       "               '2020-11-12 18:03:00', '2020-11-12 18:46:00',\n",
       "               '2020-11-12 18:47:00', '2020-11-12 18:50:00',\n",
       "               '2020-11-12 18:51:00', '2020-11-12 18:52:00',\n",
       "               '2020-11-12 18:54:00', '2020-11-12 18:55:00'],\n",
       "              dtype='datetime64[ns]', length=12084, freq=None)"
      ]
     },
     "execution_count": 7,
     "metadata": {},
     "output_type": "execute_result"
    }
   ],
   "source": [
    "vol = get_daily_vol(close)\n",
    "sampled_idx = cusum_filter(close, vol)\n",
    "sampled_idx"
   ]
  },
  {
   "cell_type": "code",
   "execution_count": 8,
   "metadata": {},
   "outputs": [
    {
     "data": {
      "text/plain": [
       "(12084,)"
      ]
     },
     "execution_count": 8,
     "metadata": {},
     "output_type": "execute_result"
    }
   ],
   "source": [
    "sampled_idx.shape"
   ]
  },
  {
   "cell_type": "code",
   "execution_count": 9,
   "metadata": {},
   "outputs": [
    {
     "data": {
      "text/plain": [
       "(30452, 6)"
      ]
     },
     "execution_count": 9,
     "metadata": {},
     "output_type": "execute_result"
    }
   ],
   "source": [
    "df.shape"
   ]
  },
  {
   "cell_type": "code",
   "execution_count": 10,
   "metadata": {},
   "outputs": [],
   "source": [
    "def get_t1(close, t_events, num_days):\n",
    "    t1 = close.index.searchsorted(t_events + pd.Timedelta(days=num_days))\n",
    "    t1 = t1[t1 < close.shape[0]]\n",
    "    t1 = pd.Series(close.index[t1], index=t_events[:t1.shape[0]])\n",
    "    return t1"
   ]
  },
  {
   "cell_type": "code",
   "execution_count": 11,
   "metadata": {},
   "outputs": [
    {
     "name": "stdout",
     "output_type": "stream",
     "text": [
      "(12084,)\n"
     ]
    },
    {
     "data": {
      "text/plain": [
       "2020-09-23 11:02:00   2020-09-24 11:02:00\n",
       "2020-09-23 11:03:00   2020-09-24 11:03:00\n",
       "2020-09-23 11:04:00   2020-09-24 11:04:00\n",
       "2020-09-23 11:06:00   2020-09-24 11:06:00\n",
       "2020-09-23 11:07:00   2020-09-24 11:07:00\n",
       "dtype: datetime64[ns]"
      ]
     },
     "execution_count": 11,
     "metadata": {},
     "output_type": "execute_result"
    }
   ],
   "source": [
    "t1 = get_t1(close, sampled_idx, num_days=1)\n",
    "print(t1.shape)\n",
    "t1.head()"
   ]
  },
  {
   "cell_type": "code",
   "execution_count": 12,
   "metadata": {},
   "outputs": [],
   "source": [
    "def apply_ptslt1(close, events, ptsl, molecule):\n",
    "    \"\"\"Return datafram about if price touches the boundary\"\"\"\n",
    "    # Sample a subset with specific indices\n",
    "    _events = events.loc[molecule]\n",
    "    # Time limit\n",
    "    \n",
    "    out = pd.DataFrame(index=_events.index)\n",
    "    # Set Profit Taking and Stop Loss\n",
    "    if ptsl[0] > 0:\n",
    "        pt = ptsl[0] *  _events[\"trgt\"]\n",
    "    else:\n",
    "        # Switch off profit taking\n",
    "        pt = pd.Series(index=_events.index)\n",
    "    if ptsl[1] > 0:\n",
    "        sl = -ptsl[1] * _events[\"trgt\"]\n",
    "    else:\n",
    "        # Switch off stop loss\n",
    "        sl = pd.Series(index=_events.index)\n",
    "    # Replace undifined value with the last time index\n",
    "    time_limits = _events[\"t1\"].fillna(close.index[-1])\n",
    "    for loc, t1 in time_limits.iteritems():\n",
    "        df = close[loc:t1]\n",
    "        # Change the direction depending on the side\n",
    "        df = (df / close[loc] - 1) * _events.at[loc, 'side']\n",
    "        # print(df)\n",
    "        # print(loc, t1, df[df < sl[loc]].index.min(), df[df > pt[loc]].index.min())\n",
    "        out.at[loc, 'sl'] = df[df < sl[loc]].index.min()\n",
    "        out.at[loc, 'pt'] = df[df > pt[loc]].index.min()\n",
    "    out['t1'] = _events['t1'].copy(deep=True)\n",
    "    return out\n",
    "\n",
    "\n",
    "def get_3barriers(close, t_events, ptsl, trgt, min_ret=0, num_threads=1,\n",
    "                  t1=False, side=None):\n",
    "    # Get sampled target values\n",
    "    trgt = trgt.loc[t_events]\n",
    "    trgt = trgt[trgt > min_ret]\n",
    "    # Get time boundary t1\n",
    "    if t1 is False:\n",
    "        t1 = pd.Series(pd.NaT, index=t_events)\n",
    "    # Define the side\n",
    "    if side is None:\n",
    "        _side = pd.Series(1., index=trgt.index)\n",
    "        _ptsl = [ptsl, ptsl]\n",
    "    else:\n",
    "        _side = side.loc[trgt.index]\n",
    "        _ptsl = ptsl[:2]\n",
    "    events = pd.concat({'t1': t1, 'trgt': trgt, 'side': _side}, axis=1)\n",
    "    events = events.dropna(subset=['trgt'])\n",
    "    time_idx = apply_ptslt1(close, events, _ptsl, events.index)\n",
    "    # Skip when all of barrier are not touched\n",
    "    events['t1'] = time_idx.dropna(how='all').min(axis=1)\n",
    "    events = events.drop('side', axis=1)\n",
    "    return events"
   ]
  },
  {
   "cell_type": "code",
   "execution_count": 13,
   "metadata": {},
   "outputs": [
    {
     "ename": "KeyError",
     "evalue": "\"Passing list-likes to .loc or [] with any missing labels is no longer supported. The following labels were missing: DatetimeIndex(['2020-09-23 16:05:00', '2020-09-23 16:12:00',\\n               '2020-09-23 16:41:00', '2020-09-24 03:14:00',\\n               '2020-09-24 03:25:00',\\n               ...\\n               '2020-11-12 15:33:00', '2020-11-12 15:48:00',\\n               '2020-11-12 16:17:00', '2020-11-12 16:20:00',\\n               '2020-11-12 16:59:00'],\\n              dtype='datetime64[ns]', length=1927, freq=None). See https://pandas.pydata.org/pandas-docs/stable/user_guide/indexing.html#deprecate-loc-reindex-listlike\"",
     "output_type": "error",
     "traceback": [
      "\u001b[1;31m---------------------------------------------------------------------------\u001b[0m",
      "\u001b[1;31mKeyError\u001b[0m                                  Traceback (most recent call last)",
      "\u001b[1;32m<ipython-input-13-f6fab853c9c6>\u001b[0m in \u001b[0;36m<module>\u001b[1;34m\u001b[0m\n\u001b[0;32m      1\u001b[0m \u001b[0mtrgt\u001b[0m \u001b[1;33m=\u001b[0m \u001b[0mvol\u001b[0m\u001b[1;33m\u001b[0m\u001b[1;33m\u001b[0m\u001b[0m\n\u001b[0;32m      2\u001b[0m events = get_3barriers(close, t_events=sampled_idx, trgt=trgt,\n\u001b[1;32m----> 3\u001b[1;33m                        ptsl=1, t1=t1)\n\u001b[0m\u001b[0;32m      4\u001b[0m \u001b[0mevents\u001b[0m\u001b[1;33m.\u001b[0m\u001b[0mhead\u001b[0m\u001b[1;33m(\u001b[0m\u001b[1;33m)\u001b[0m\u001b[1;33m\u001b[0m\u001b[1;33m\u001b[0m\u001b[0m\n",
      "\u001b[1;32m<ipython-input-12-29736a51e997>\u001b[0m in \u001b[0;36mget_3barriers\u001b[1;34m(close, t_events, ptsl, trgt, min_ret, num_threads, t1, side)\u001b[0m\n\u001b[0;32m     34\u001b[0m                   t1=False, side=None):\n\u001b[0;32m     35\u001b[0m     \u001b[1;31m# Get sampled target values\u001b[0m\u001b[1;33m\u001b[0m\u001b[1;33m\u001b[0m\u001b[1;33m\u001b[0m\u001b[0m\n\u001b[1;32m---> 36\u001b[1;33m     \u001b[0mtrgt\u001b[0m \u001b[1;33m=\u001b[0m \u001b[0mtrgt\u001b[0m\u001b[1;33m.\u001b[0m\u001b[0mloc\u001b[0m\u001b[1;33m[\u001b[0m\u001b[0mt_events\u001b[0m\u001b[1;33m]\u001b[0m\u001b[1;33m\u001b[0m\u001b[1;33m\u001b[0m\u001b[0m\n\u001b[0m\u001b[0;32m     37\u001b[0m     \u001b[0mtrgt\u001b[0m \u001b[1;33m=\u001b[0m \u001b[0mtrgt\u001b[0m\u001b[1;33m[\u001b[0m\u001b[0mtrgt\u001b[0m \u001b[1;33m>\u001b[0m \u001b[0mmin_ret\u001b[0m\u001b[1;33m]\u001b[0m\u001b[1;33m\u001b[0m\u001b[1;33m\u001b[0m\u001b[0m\n\u001b[0;32m     38\u001b[0m     \u001b[1;31m# Get time boundary t1\u001b[0m\u001b[1;33m\u001b[0m\u001b[1;33m\u001b[0m\u001b[1;33m\u001b[0m\u001b[0m\n",
      "\u001b[1;32m~\\.conda\\envs\\tf\\lib\\site-packages\\pandas\\core\\indexing.py\u001b[0m in \u001b[0;36m__getitem__\u001b[1;34m(self, key)\u001b[0m\n\u001b[0;32m    877\u001b[0m \u001b[1;33m\u001b[0m\u001b[0m\n\u001b[0;32m    878\u001b[0m             \u001b[0mmaybe_callable\u001b[0m \u001b[1;33m=\u001b[0m \u001b[0mcom\u001b[0m\u001b[1;33m.\u001b[0m\u001b[0mapply_if_callable\u001b[0m\u001b[1;33m(\u001b[0m\u001b[0mkey\u001b[0m\u001b[1;33m,\u001b[0m \u001b[0mself\u001b[0m\u001b[1;33m.\u001b[0m\u001b[0mobj\u001b[0m\u001b[1;33m)\u001b[0m\u001b[1;33m\u001b[0m\u001b[1;33m\u001b[0m\u001b[0m\n\u001b[1;32m--> 879\u001b[1;33m             \u001b[1;32mreturn\u001b[0m \u001b[0mself\u001b[0m\u001b[1;33m.\u001b[0m\u001b[0m_getitem_axis\u001b[0m\u001b[1;33m(\u001b[0m\u001b[0mmaybe_callable\u001b[0m\u001b[1;33m,\u001b[0m \u001b[0maxis\u001b[0m\u001b[1;33m=\u001b[0m\u001b[0maxis\u001b[0m\u001b[1;33m)\u001b[0m\u001b[1;33m\u001b[0m\u001b[1;33m\u001b[0m\u001b[0m\n\u001b[0m\u001b[0;32m    880\u001b[0m \u001b[1;33m\u001b[0m\u001b[0m\n\u001b[0;32m    881\u001b[0m     \u001b[1;32mdef\u001b[0m \u001b[0m_is_scalar_access\u001b[0m\u001b[1;33m(\u001b[0m\u001b[0mself\u001b[0m\u001b[1;33m,\u001b[0m \u001b[0mkey\u001b[0m\u001b[1;33m:\u001b[0m \u001b[0mTuple\u001b[0m\u001b[1;33m)\u001b[0m\u001b[1;33m:\u001b[0m\u001b[1;33m\u001b[0m\u001b[1;33m\u001b[0m\u001b[0m\n",
      "\u001b[1;32m~\\.conda\\envs\\tf\\lib\\site-packages\\pandas\\core\\indexing.py\u001b[0m in \u001b[0;36m_getitem_axis\u001b[1;34m(self, key, axis)\u001b[0m\n\u001b[0;32m   1097\u001b[0m                     \u001b[1;32mraise\u001b[0m \u001b[0mValueError\u001b[0m\u001b[1;33m(\u001b[0m\u001b[1;34m\"Cannot index with multidimensional key\"\u001b[0m\u001b[1;33m)\u001b[0m\u001b[1;33m\u001b[0m\u001b[1;33m\u001b[0m\u001b[0m\n\u001b[0;32m   1098\u001b[0m \u001b[1;33m\u001b[0m\u001b[0m\n\u001b[1;32m-> 1099\u001b[1;33m                 \u001b[1;32mreturn\u001b[0m \u001b[0mself\u001b[0m\u001b[1;33m.\u001b[0m\u001b[0m_getitem_iterable\u001b[0m\u001b[1;33m(\u001b[0m\u001b[0mkey\u001b[0m\u001b[1;33m,\u001b[0m \u001b[0maxis\u001b[0m\u001b[1;33m=\u001b[0m\u001b[0maxis\u001b[0m\u001b[1;33m)\u001b[0m\u001b[1;33m\u001b[0m\u001b[1;33m\u001b[0m\u001b[0m\n\u001b[0m\u001b[0;32m   1100\u001b[0m \u001b[1;33m\u001b[0m\u001b[0m\n\u001b[0;32m   1101\u001b[0m             \u001b[1;31m# nested tuple slicing\u001b[0m\u001b[1;33m\u001b[0m\u001b[1;33m\u001b[0m\u001b[1;33m\u001b[0m\u001b[0m\n",
      "\u001b[1;32m~\\.conda\\envs\\tf\\lib\\site-packages\\pandas\\core\\indexing.py\u001b[0m in \u001b[0;36m_getitem_iterable\u001b[1;34m(self, key, axis)\u001b[0m\n\u001b[0;32m   1035\u001b[0m \u001b[1;33m\u001b[0m\u001b[0m\n\u001b[0;32m   1036\u001b[0m         \u001b[1;31m# A collection of keys\u001b[0m\u001b[1;33m\u001b[0m\u001b[1;33m\u001b[0m\u001b[1;33m\u001b[0m\u001b[0m\n\u001b[1;32m-> 1037\u001b[1;33m         \u001b[0mkeyarr\u001b[0m\u001b[1;33m,\u001b[0m \u001b[0mindexer\u001b[0m \u001b[1;33m=\u001b[0m \u001b[0mself\u001b[0m\u001b[1;33m.\u001b[0m\u001b[0m_get_listlike_indexer\u001b[0m\u001b[1;33m(\u001b[0m\u001b[0mkey\u001b[0m\u001b[1;33m,\u001b[0m \u001b[0maxis\u001b[0m\u001b[1;33m,\u001b[0m \u001b[0mraise_missing\u001b[0m\u001b[1;33m=\u001b[0m\u001b[1;32mFalse\u001b[0m\u001b[1;33m)\u001b[0m\u001b[1;33m\u001b[0m\u001b[1;33m\u001b[0m\u001b[0m\n\u001b[0m\u001b[0;32m   1038\u001b[0m         return self.obj._reindex_with_indexers(\n\u001b[0;32m   1039\u001b[0m             \u001b[1;33m{\u001b[0m\u001b[0maxis\u001b[0m\u001b[1;33m:\u001b[0m \u001b[1;33m[\u001b[0m\u001b[0mkeyarr\u001b[0m\u001b[1;33m,\u001b[0m \u001b[0mindexer\u001b[0m\u001b[1;33m]\u001b[0m\u001b[1;33m}\u001b[0m\u001b[1;33m,\u001b[0m \u001b[0mcopy\u001b[0m\u001b[1;33m=\u001b[0m\u001b[1;32mTrue\u001b[0m\u001b[1;33m,\u001b[0m \u001b[0mallow_dups\u001b[0m\u001b[1;33m=\u001b[0m\u001b[1;32mTrue\u001b[0m\u001b[1;33m\u001b[0m\u001b[1;33m\u001b[0m\u001b[0m\n",
      "\u001b[1;32m~\\.conda\\envs\\tf\\lib\\site-packages\\pandas\\core\\indexing.py\u001b[0m in \u001b[0;36m_get_listlike_indexer\u001b[1;34m(self, key, axis, raise_missing)\u001b[0m\n\u001b[0;32m   1252\u001b[0m             \u001b[0mkeyarr\u001b[0m\u001b[1;33m,\u001b[0m \u001b[0mindexer\u001b[0m\u001b[1;33m,\u001b[0m \u001b[0mnew_indexer\u001b[0m \u001b[1;33m=\u001b[0m \u001b[0max\u001b[0m\u001b[1;33m.\u001b[0m\u001b[0m_reindex_non_unique\u001b[0m\u001b[1;33m(\u001b[0m\u001b[0mkeyarr\u001b[0m\u001b[1;33m)\u001b[0m\u001b[1;33m\u001b[0m\u001b[1;33m\u001b[0m\u001b[0m\n\u001b[0;32m   1253\u001b[0m \u001b[1;33m\u001b[0m\u001b[0m\n\u001b[1;32m-> 1254\u001b[1;33m         \u001b[0mself\u001b[0m\u001b[1;33m.\u001b[0m\u001b[0m_validate_read_indexer\u001b[0m\u001b[1;33m(\u001b[0m\u001b[0mkeyarr\u001b[0m\u001b[1;33m,\u001b[0m \u001b[0mindexer\u001b[0m\u001b[1;33m,\u001b[0m \u001b[0maxis\u001b[0m\u001b[1;33m,\u001b[0m \u001b[0mraise_missing\u001b[0m\u001b[1;33m=\u001b[0m\u001b[0mraise_missing\u001b[0m\u001b[1;33m)\u001b[0m\u001b[1;33m\u001b[0m\u001b[1;33m\u001b[0m\u001b[0m\n\u001b[0m\u001b[0;32m   1255\u001b[0m         \u001b[1;32mreturn\u001b[0m \u001b[0mkeyarr\u001b[0m\u001b[1;33m,\u001b[0m \u001b[0mindexer\u001b[0m\u001b[1;33m\u001b[0m\u001b[1;33m\u001b[0m\u001b[0m\n\u001b[0;32m   1256\u001b[0m \u001b[1;33m\u001b[0m\u001b[0m\n",
      "\u001b[1;32m~\\.conda\\envs\\tf\\lib\\site-packages\\pandas\\core\\indexing.py\u001b[0m in \u001b[0;36m_validate_read_indexer\u001b[1;34m(self, key, indexer, axis, raise_missing)\u001b[0m\n\u001b[0;32m   1314\u001b[0m                 \u001b[1;32mwith\u001b[0m \u001b[0moption_context\u001b[0m\u001b[1;33m(\u001b[0m\u001b[1;34m\"display.max_seq_items\"\u001b[0m\u001b[1;33m,\u001b[0m \u001b[1;36m10\u001b[0m\u001b[1;33m,\u001b[0m \u001b[1;34m\"display.width\"\u001b[0m\u001b[1;33m,\u001b[0m \u001b[1;36m80\u001b[0m\u001b[1;33m)\u001b[0m\u001b[1;33m:\u001b[0m\u001b[1;33m\u001b[0m\u001b[1;33m\u001b[0m\u001b[0m\n\u001b[0;32m   1315\u001b[0m                     raise KeyError(\n\u001b[1;32m-> 1316\u001b[1;33m                         \u001b[1;34m\"Passing list-likes to .loc or [] with any missing labels \"\u001b[0m\u001b[1;33m\u001b[0m\u001b[1;33m\u001b[0m\u001b[0m\n\u001b[0m\u001b[0;32m   1317\u001b[0m                         \u001b[1;34m\"is no longer supported. \"\u001b[0m\u001b[1;33m\u001b[0m\u001b[1;33m\u001b[0m\u001b[0m\n\u001b[0;32m   1318\u001b[0m                         \u001b[1;34mf\"The following labels were missing: {not_found}. \"\u001b[0m\u001b[1;33m\u001b[0m\u001b[1;33m\u001b[0m\u001b[0m\n",
      "\u001b[1;31mKeyError\u001b[0m: \"Passing list-likes to .loc or [] with any missing labels is no longer supported. The following labels were missing: DatetimeIndex(['2020-09-23 16:05:00', '2020-09-23 16:12:00',\\n               '2020-09-23 16:41:00', '2020-09-24 03:14:00',\\n               '2020-09-24 03:25:00',\\n               ...\\n               '2020-11-12 15:33:00', '2020-11-12 15:48:00',\\n               '2020-11-12 16:17:00', '2020-11-12 16:20:00',\\n               '2020-11-12 16:59:00'],\\n              dtype='datetime64[ns]', length=1927, freq=None). See https://pandas.pydata.org/pandas-docs/stable/user_guide/indexing.html#deprecate-loc-reindex-listlike\""
     ]
    }
   ],
   "source": [
    "trgt = vol\n",
    "events = get_3barriers(close, t_events=sampled_idx, trgt=trgt,\n",
    "                       ptsl=1, t1=t1)\n",
    "events.head()"
   ]
  },
  {
   "cell_type": "code",
   "execution_count": 15,
   "metadata": {
    "collapsed": true
   },
   "outputs": [],
   "source": [
    "def get_bins(events, close):\n",
    "    # Prices algined with events\n",
    "    events = events.dropna(subset=['t1'])\n",
    "    px = events.index.union(events['t1'].values).drop_duplicates()\n",
    "    px = close.reindex(px, method='bfill')\n",
    "    # Create out object\n",
    "    out = pd.DataFrame(index=events.index)\n",
    "    out['ret'] = px.loc[events['t1'].values].values / px.loc[events.index] - 1.\n",
    "    if 'side' in events:\n",
    "        out['ret'] *= events['side']\n",
    "    out['bin'] = np.sign(out['ret'])\n",
    "    if 'side' in events:\n",
    "        out.loc[out['ret'] <= 0, 'bin'] = 0\n",
    "    return out"
   ]
  },
  {
   "cell_type": "code",
   "execution_count": 16,
   "metadata": {},
   "outputs": [
    {
     "data": {
      "text/html": [
       "<div>\n",
       "<style scoped>\n",
       "    .dataframe tbody tr th:only-of-type {\n",
       "        vertical-align: middle;\n",
       "    }\n",
       "\n",
       "    .dataframe tbody tr th {\n",
       "        vertical-align: top;\n",
       "    }\n",
       "\n",
       "    .dataframe thead th {\n",
       "        text-align: right;\n",
       "    }\n",
       "</style>\n",
       "<table border=\"1\" class=\"dataframe\">\n",
       "  <thead>\n",
       "    <tr style=\"text-align: right;\">\n",
       "      <th></th>\n",
       "      <th>ret</th>\n",
       "      <th>bin</th>\n",
       "    </tr>\n",
       "  </thead>\n",
       "  <tbody>\n",
       "    <tr>\n",
       "      <th>2004-08-24</th>\n",
       "      <td>0.010775</td>\n",
       "      <td>1.0</td>\n",
       "    </tr>\n",
       "    <tr>\n",
       "      <th>2004-08-25</th>\n",
       "      <td>0.018019</td>\n",
       "      <td>1.0</td>\n",
       "    </tr>\n",
       "    <tr>\n",
       "      <th>2004-08-31</th>\n",
       "      <td>-0.020709</td>\n",
       "      <td>-1.0</td>\n",
       "    </tr>\n",
       "    <tr>\n",
       "      <th>2004-09-02</th>\n",
       "      <td>-0.014777</td>\n",
       "      <td>-1.0</td>\n",
       "    </tr>\n",
       "    <tr>\n",
       "      <th>2004-09-07</th>\n",
       "      <td>0.007088</td>\n",
       "      <td>1.0</td>\n",
       "    </tr>\n",
       "  </tbody>\n",
       "</table>\n",
       "</div>"
      ],
      "text/plain": [
       "                 ret  bin\n",
       "2004-08-24  0.010775  1.0\n",
       "2004-08-25  0.018019  1.0\n",
       "2004-08-31 -0.020709 -1.0\n",
       "2004-09-02 -0.014777 -1.0\n",
       "2004-09-07  0.007088  1.0"
      ]
     },
     "execution_count": 16,
     "metadata": {},
     "output_type": "execute_result"
    }
   ],
   "source": [
    "bins = get_bins(events, close)\n",
    "bins.head()"
   ]
  },
  {
   "cell_type": "markdown",
   "metadata": {},
   "source": [
    "# 3.2"
   ]
  },
  {
   "cell_type": "code",
   "execution_count": 17,
   "metadata": {
    "collapsed": true
   },
   "outputs": [],
   "source": [
    "def drop_labels(events, min_pct=0.05):\n",
    "    while True:\n",
    "        df = events['bin'].value_counts(normalize=True)\n",
    "        if df.min() > min_pct or df.shape[0] < 3:\n",
    "            break\n",
    "        print('dropped label', df.argmin(), df.min())\n",
    "        events = events[events['bin'] != df.argmin()]\n",
    "    return events"
   ]
  },
  {
   "cell_type": "code",
   "execution_count": 18,
   "metadata": {},
   "outputs": [
    {
     "name": "stdout",
     "output_type": "stream",
     "text": [
      "dropped label 0.0 0.0008216926869350862\n",
      "(1217, 2)\n",
      "(1216, 2)\n"
     ]
    },
    {
     "name": "stderr",
     "output_type": "stream",
     "text": [
      "/home/tomoaki/anaconda3/lib/python3.6/site-packages/ipykernel_launcher.py:6: FutureWarning: 'argmin' is deprecated. Use 'idxmin' instead. The behavior of 'argmin' will be corrected to return the positional minimum in the future. Use 'series.values.argmin' to get the position of the minimum now.\n",
      "  \n",
      "/home/tomoaki/anaconda3/lib/python3.6/site-packages/ipykernel_launcher.py:7: FutureWarning: 'argmin' is deprecated. Use 'idxmin' instead. The behavior of 'argmin' will be corrected to return the positional minimum in the future. Use 'series.values.argmin' to get the position of the minimum now.\n",
      "  import sys\n"
     ]
    }
   ],
   "source": [
    "dropped_bins = drop_labels(bins)\n",
    "print(bins.shape)\n",
    "print(dropped_bins.shape)"
   ]
  },
  {
   "cell_type": "code",
   "execution_count": 19,
   "metadata": {
    "collapsed": true
   },
   "outputs": [],
   "source": [
    "bins = dropped_bins"
   ]
  },
  {
   "cell_type": "markdown",
   "metadata": {},
   "source": [
    "# 3.3"
   ]
  },
  {
   "cell_type": "code",
   "execution_count": 20,
   "metadata": {
    "collapsed": true
   },
   "outputs": [],
   "source": [
    "def get_3barriers(close, t_events, ptsl, trgt, min_ret=0, num_threads=1,\n",
    "                  t1=False, side=None):\n",
    "    # Get sampled target values\n",
    "    trgt = trgt.loc[t_events]\n",
    "    trgt = trgt[trgt > min_ret]\n",
    "    # Get time boundary t1\n",
    "    if t1 is False:\n",
    "        t1 = pd.Series(pd.NaT, index=t_events)\n",
    "    # Define the side\n",
    "    if side is None:\n",
    "        _side = pd.Series(1., index=trgt.index)\n",
    "        _ptsl = [ptsl, ptsl]\n",
    "    else:\n",
    "        _side = side.loc[trgt.index]\n",
    "        _ptsl = ptsl[:2]\n",
    "    events = pd.concat({'t1': t1, 'trgt': trgt, 'side': _side}, axis=1)\n",
    "    events = events.dropna(subset=['trgt'])\n",
    "    time_idx = apply_ptslt1(close, events, _ptsl, events.index)\n",
    "    # Skip when all of barrier are not touched\n",
    "    time_idx = time_idx.dropna(how='all')\n",
    "    events['t1_type'] = time_idx.idxmin(axis=1)\n",
    "    events['t1'] = time_idx.min(axis=1)\n",
    "    if side is None:\n",
    "        events = events.drop('side', axis=1)\n",
    "    return events\n",
    "\n",
    "def get_bins(events, close):\n",
    "    # Prices algined with events\n",
    "    events = events.dropna(subset=['t1'])\n",
    "    px = events.index.union(events['t1'].values).drop_duplicates()\n",
    "    px = close.reindex(px, method='bfill')\n",
    "    # Create out object\n",
    "    out = pd.DataFrame(index=events.index)\n",
    "    out['ret'] = px.loc[events['t1'].values].values / px.loc[events.index] - 1.\n",
    "    if 'side' in events:\n",
    "        out['ret'] *= events['side']\n",
    "    out['bin'] = np.sign(out['ret'])\n",
    "    # 0 when touching vertical line\n",
    "    out['bin'].loc[events['t1_type'] == 't1'] = 0\n",
    "    if 'side' in events:\n",
    "        out.loc[out['ret'] <= 0, 'bin'] = 0\n",
    "    return out"
   ]
  },
  {
   "cell_type": "code",
   "execution_count": 21,
   "metadata": {},
   "outputs": [
    {
     "name": "stderr",
     "output_type": "stream",
     "text": [
      "/home/tomoaki/anaconda3/lib/python3.6/site-packages/ipykernel_launcher.py:4: FutureWarning: \n",
      "Passing list-likes to .loc or [] with any missing label will raise\n",
      "KeyError in the future, you can use .reindex() as an alternative.\n",
      "\n",
      "See the documentation here:\n",
      "http://pandas.pydata.org/pandas-docs/stable/indexing.html#deprecate-loc-reindex-listlike\n",
      "  after removing the cwd from sys.path.\n"
     ]
    },
    {
     "data": {
      "text/html": [
       "<div>\n",
       "<style scoped>\n",
       "    .dataframe tbody tr th:only-of-type {\n",
       "        vertical-align: middle;\n",
       "    }\n",
       "\n",
       "    .dataframe tbody tr th {\n",
       "        vertical-align: top;\n",
       "    }\n",
       "\n",
       "    .dataframe thead th {\n",
       "        text-align: right;\n",
       "    }\n",
       "</style>\n",
       "<table border=\"1\" class=\"dataframe\">\n",
       "  <thead>\n",
       "    <tr style=\"text-align: right;\">\n",
       "      <th></th>\n",
       "      <th>t1</th>\n",
       "      <th>trgt</th>\n",
       "      <th>t1_type</th>\n",
       "    </tr>\n",
       "  </thead>\n",
       "  <tbody>\n",
       "    <tr>\n",
       "      <th>2004-08-24</th>\n",
       "      <td>2004-08-25</td>\n",
       "      <td>0.036396</td>\n",
       "      <td>t1</td>\n",
       "    </tr>\n",
       "    <tr>\n",
       "      <th>2004-08-25</th>\n",
       "      <td>2004-08-26</td>\n",
       "      <td>0.029930</td>\n",
       "      <td>t1</td>\n",
       "    </tr>\n",
       "    <tr>\n",
       "      <th>2004-08-31</th>\n",
       "      <td>2004-09-01</td>\n",
       "      <td>0.026605</td>\n",
       "      <td>t1</td>\n",
       "    </tr>\n",
       "    <tr>\n",
       "      <th>2004-09-02</th>\n",
       "      <td>2004-09-03</td>\n",
       "      <td>0.024097</td>\n",
       "      <td>t1</td>\n",
       "    </tr>\n",
       "    <tr>\n",
       "      <th>2004-09-07</th>\n",
       "      <td>2004-09-08</td>\n",
       "      <td>0.023610</td>\n",
       "      <td>t1</td>\n",
       "    </tr>\n",
       "  </tbody>\n",
       "</table>\n",
       "</div>"
      ],
      "text/plain": [
       "                   t1      trgt t1_type\n",
       "2004-08-24 2004-08-25  0.036396      t1\n",
       "2004-08-25 2004-08-26  0.029930      t1\n",
       "2004-08-31 2004-09-01  0.026605      t1\n",
       "2004-09-02 2004-09-03  0.024097      t1\n",
       "2004-09-07 2004-09-08  0.023610      t1"
      ]
     },
     "execution_count": 21,
     "metadata": {},
     "output_type": "execute_result"
    }
   ],
   "source": [
    "t1 = get_t1(close, sampled_idx, num_days=1)\n",
    "events = get_3barriers(close, t_events=sampled_idx, trgt=trgt,\n",
    "                       ptsl=1, t1=t1)\n",
    "events.head()"
   ]
  },
  {
   "cell_type": "code",
   "execution_count": 22,
   "metadata": {},
   "outputs": [
    {
     "name": "stdout",
     "output_type": "stream",
     "text": [
      "['t1' 'pt' 'sl']\n",
      "count     1217\n",
      "unique       3\n",
      "top         t1\n",
      "freq       906\n",
      "Name: t1_type, dtype: object\n"
     ]
    }
   ],
   "source": [
    "print(events['t1_type'].unique())\n",
    "print(events['t1_type'].describe())"
   ]
  },
  {
   "cell_type": "code",
   "execution_count": 23,
   "metadata": {},
   "outputs": [
    {
     "data": {
      "text/html": [
       "<div>\n",
       "<style scoped>\n",
       "    .dataframe tbody tr th:only-of-type {\n",
       "        vertical-align: middle;\n",
       "    }\n",
       "\n",
       "    .dataframe tbody tr th {\n",
       "        vertical-align: top;\n",
       "    }\n",
       "\n",
       "    .dataframe thead th {\n",
       "        text-align: right;\n",
       "    }\n",
       "</style>\n",
       "<table border=\"1\" class=\"dataframe\">\n",
       "  <thead>\n",
       "    <tr style=\"text-align: right;\">\n",
       "      <th></th>\n",
       "      <th>ret</th>\n",
       "      <th>bin</th>\n",
       "    </tr>\n",
       "  </thead>\n",
       "  <tbody>\n",
       "    <tr>\n",
       "      <th>2004-08-24</th>\n",
       "      <td>0.010775</td>\n",
       "      <td>0.0</td>\n",
       "    </tr>\n",
       "    <tr>\n",
       "      <th>2004-08-25</th>\n",
       "      <td>0.018019</td>\n",
       "      <td>0.0</td>\n",
       "    </tr>\n",
       "    <tr>\n",
       "      <th>2004-08-31</th>\n",
       "      <td>-0.020709</td>\n",
       "      <td>0.0</td>\n",
       "    </tr>\n",
       "    <tr>\n",
       "      <th>2004-09-02</th>\n",
       "      <td>-0.014777</td>\n",
       "      <td>0.0</td>\n",
       "    </tr>\n",
       "    <tr>\n",
       "      <th>2004-09-07</th>\n",
       "      <td>0.007088</td>\n",
       "      <td>0.0</td>\n",
       "    </tr>\n",
       "  </tbody>\n",
       "</table>\n",
       "</div>"
      ],
      "text/plain": [
       "                 ret  bin\n",
       "2004-08-24  0.010775  0.0\n",
       "2004-08-25  0.018019  0.0\n",
       "2004-08-31 -0.020709  0.0\n",
       "2004-09-02 -0.014777  0.0\n",
       "2004-09-07  0.007088  0.0"
      ]
     },
     "execution_count": 23,
     "metadata": {},
     "output_type": "execute_result"
    }
   ],
   "source": [
    "bins = get_bins(events, close)\n",
    "bins.head()"
   ]
  },
  {
   "cell_type": "code",
   "execution_count": 24,
   "metadata": {},
   "outputs": [
    {
     "data": {
      "text/plain": [
       " 0.0    906\n",
       " 1.0    180\n",
       "-1.0    131\n",
       "Name: bin, dtype: int64"
      ]
     },
     "execution_count": 24,
     "metadata": {},
     "output_type": "execute_result"
    }
   ],
   "source": [
    "bins['bin'].value_counts()"
   ]
  },
  {
   "cell_type": "markdown",
   "metadata": {},
   "source": [
    "# 3.4"
   ]
  },
  {
   "cell_type": "code",
   "execution_count": 70,
   "metadata": {
    "collapsed": true
   },
   "outputs": [],
   "source": [
    "import talib\n",
    "import numpy as np\n",
    "\n",
    "\n",
    "def macd_side(close):\n",
    "    macd, signal, hist = talib.MACD(close.values)\n",
    "    hist = pd.Series(hist).fillna(1).values\n",
    "    return pd.Series(2 * ((hist > 0).astype(float) - 0.5), index=close.index[-len(hist):])"
   ]
  },
  {
   "cell_type": "code",
   "execution_count": 71,
   "metadata": {},
   "outputs": [
    {
     "name": "stderr",
     "output_type": "stream",
     "text": [
      "/home/tomoaki/anaconda3/lib/python3.6/site-packages/ipykernel_launcher.py:4: FutureWarning: \n",
      "Passing list-likes to .loc or [] with any missing label will raise\n",
      "KeyError in the future, you can use .reindex() as an alternative.\n",
      "\n",
      "See the documentation here:\n",
      "http://pandas.pydata.org/pandas-docs/stable/indexing.html#deprecate-loc-reindex-listlike\n",
      "  after removing the cwd from sys.path.\n"
     ]
    },
    {
     "data": {
      "text/html": [
       "<div>\n",
       "<style scoped>\n",
       "    .dataframe tbody tr th:only-of-type {\n",
       "        vertical-align: middle;\n",
       "    }\n",
       "\n",
       "    .dataframe tbody tr th {\n",
       "        vertical-align: top;\n",
       "    }\n",
       "\n",
       "    .dataframe thead th {\n",
       "        text-align: right;\n",
       "    }\n",
       "</style>\n",
       "<table border=\"1\" class=\"dataframe\">\n",
       "  <thead>\n",
       "    <tr style=\"text-align: right;\">\n",
       "      <th></th>\n",
       "      <th>side</th>\n",
       "      <th>t1</th>\n",
       "      <th>trgt</th>\n",
       "      <th>t1_type</th>\n",
       "    </tr>\n",
       "  </thead>\n",
       "  <tbody>\n",
       "    <tr>\n",
       "      <th>2004-08-24</th>\n",
       "      <td>1.0</td>\n",
       "      <td>2004-08-25</td>\n",
       "      <td>0.036396</td>\n",
       "      <td>t1</td>\n",
       "    </tr>\n",
       "    <tr>\n",
       "      <th>2004-08-25</th>\n",
       "      <td>1.0</td>\n",
       "      <td>2004-08-26</td>\n",
       "      <td>0.029930</td>\n",
       "      <td>t1</td>\n",
       "    </tr>\n",
       "    <tr>\n",
       "      <th>2004-08-31</th>\n",
       "      <td>1.0</td>\n",
       "      <td>2004-09-01</td>\n",
       "      <td>0.026605</td>\n",
       "      <td>t1</td>\n",
       "    </tr>\n",
       "    <tr>\n",
       "      <th>2004-09-02</th>\n",
       "      <td>1.0</td>\n",
       "      <td>2004-09-03</td>\n",
       "      <td>0.024097</td>\n",
       "      <td>t1</td>\n",
       "    </tr>\n",
       "    <tr>\n",
       "      <th>2004-09-07</th>\n",
       "      <td>1.0</td>\n",
       "      <td>2004-09-08</td>\n",
       "      <td>0.023610</td>\n",
       "      <td>t1</td>\n",
       "    </tr>\n",
       "  </tbody>\n",
       "</table>\n",
       "</div>"
      ],
      "text/plain": [
       "            side         t1      trgt t1_type\n",
       "2004-08-24   1.0 2004-08-25  0.036396      t1\n",
       "2004-08-25   1.0 2004-08-26  0.029930      t1\n",
       "2004-08-31   1.0 2004-09-01  0.026605      t1\n",
       "2004-09-02   1.0 2004-09-03  0.024097      t1\n",
       "2004-09-07   1.0 2004-09-08  0.023610      t1"
      ]
     },
     "execution_count": 71,
     "metadata": {},
     "output_type": "execute_result"
    }
   ],
   "source": [
    "import numpy as np\n",
    "\n",
    "vol = get_daily_vol(close)\n",
    "sampled_idx = cusum_filter(close, vol)\n",
    "t1 = get_t1(close, sampled_idx, num_days=1)\n",
    "side =  macd_side(close)\n",
    "events = get_3barriers(close, t_events=sampled_idx, trgt=vol,\n",
    "                       ptsl=[1, 2], t1=t1, side=side)\n",
    "events.head()"
   ]
  },
  {
   "cell_type": "code",
   "execution_count": 72,
   "metadata": {},
   "outputs": [
    {
     "data": {
      "text/html": [
       "<div>\n",
       "<style scoped>\n",
       "    .dataframe tbody tr th:only-of-type {\n",
       "        vertical-align: middle;\n",
       "    }\n",
       "\n",
       "    .dataframe tbody tr th {\n",
       "        vertical-align: top;\n",
       "    }\n",
       "\n",
       "    .dataframe thead th {\n",
       "        text-align: right;\n",
       "    }\n",
       "</style>\n",
       "<table border=\"1\" class=\"dataframe\">\n",
       "  <thead>\n",
       "    <tr style=\"text-align: right;\">\n",
       "      <th></th>\n",
       "      <th>ret</th>\n",
       "      <th>bin</th>\n",
       "    </tr>\n",
       "  </thead>\n",
       "  <tbody>\n",
       "    <tr>\n",
       "      <th>2004-08-24</th>\n",
       "      <td>0.010775</td>\n",
       "      <td>0.0</td>\n",
       "    </tr>\n",
       "    <tr>\n",
       "      <th>2004-08-25</th>\n",
       "      <td>0.018019</td>\n",
       "      <td>0.0</td>\n",
       "    </tr>\n",
       "    <tr>\n",
       "      <th>2004-08-31</th>\n",
       "      <td>-0.020709</td>\n",
       "      <td>0.0</td>\n",
       "    </tr>\n",
       "    <tr>\n",
       "      <th>2004-09-02</th>\n",
       "      <td>-0.014777</td>\n",
       "      <td>0.0</td>\n",
       "    </tr>\n",
       "    <tr>\n",
       "      <th>2004-09-07</th>\n",
       "      <td>0.007088</td>\n",
       "      <td>0.0</td>\n",
       "    </tr>\n",
       "  </tbody>\n",
       "</table>\n",
       "</div>"
      ],
      "text/plain": [
       "                 ret  bin\n",
       "2004-08-24  0.010775  0.0\n",
       "2004-08-25  0.018019  0.0\n",
       "2004-08-31 -0.020709  0.0\n",
       "2004-09-02 -0.014777  0.0\n",
       "2004-09-07  0.007088  0.0"
      ]
     },
     "execution_count": 72,
     "metadata": {},
     "output_type": "execute_result"
    }
   ],
   "source": [
    "bins = get_bins(events, close)\n",
    "bins.head()"
   ]
  },
  {
   "cell_type": "code",
   "execution_count": 27,
   "metadata": {},
   "outputs": [
    {
     "data": {
      "text/plain": [
       "array([0., 1.])"
      ]
     },
     "execution_count": 27,
     "metadata": {},
     "output_type": "execute_result"
    }
   ],
   "source": [
    "bins['bin'].unique()"
   ]
  },
  {
   "cell_type": "code",
   "execution_count": 93,
   "metadata": {},
   "outputs": [
    {
     "data": {
      "text/plain": [
       "RandomForestClassifier(bootstrap=True, class_weight=None, criterion='gini',\n",
       "            max_depth=None, max_features='auto', max_leaf_nodes=None,\n",
       "            min_impurity_decrease=0.0, min_impurity_split=None,\n",
       "            min_samples_leaf=1, min_samples_split=2,\n",
       "            min_weight_fraction_leaf=0.0, n_estimators=10, n_jobs=1,\n",
       "            oob_score=False, random_state=None, verbose=0,\n",
       "            warm_start=False)"
      ]
     },
     "execution_count": 93,
     "metadata": {},
     "output_type": "execute_result"
    }
   ],
   "source": [
    "from sklearn.ensemble import RandomForestClassifier\n",
    "\n",
    "clf = RandomForestClassifier()\n",
    "x = np.hstack([events['side'].values[:, np.newaxis], close.loc[events.index].values[:, np.newaxis]])\n",
    "y = bins['bin'].values\n",
    "clf.fit(x, y)"
   ]
  },
  {
   "cell_type": "code",
   "execution_count": 94,
   "metadata": {},
   "outputs": [
    {
     "data": {
      "text/plain": [
       "array([0., 0., 0., ..., 0., 0., 0.])"
      ]
     },
     "execution_count": 94,
     "metadata": {},
     "output_type": "execute_result"
    }
   ],
   "source": [
    "clf.predict(x)"
   ]
  },
  {
   "cell_type": "code",
   "execution_count": 91,
   "metadata": {},
   "outputs": [
    {
     "data": {
      "text/plain": [
       "(1217, 2)"
      ]
     },
     "execution_count": 91,
     "metadata": {},
     "output_type": "execute_result"
    }
   ],
   "source": [
    "x.shape"
   ]
  },
  {
   "cell_type": "code",
   "execution_count": 76,
   "metadata": {},
   "outputs": [
    {
     "data": {
      "text/plain": [
       "array([ 1.,  1.,  1., ..., -1., -1.,  1.])"
      ]
     },
     "execution_count": 76,
     "metadata": {},
     "output_type": "execute_result"
    }
   ],
   "source": [
    "events['side'].values"
   ]
  },
  {
   "cell_type": "code",
   "execution_count": 37,
   "metadata": {},
   "outputs": [
    {
     "name": "stdout",
     "output_type": "stream",
     "text": [
      "Help on built-in function MACD in module talib.func:\n",
      "\n",
      "MACD(...)\n",
      "    MACD(real[, fastperiod=?, slowperiod=?, signalperiod=?])\n",
      "    \n",
      "    Moving Average Convergence/Divergence (Momentum Indicators)\n",
      "    \n",
      "    Inputs:\n",
      "        real: (any ndarray)\n",
      "    Parameters:\n",
      "        fastperiod: 12\n",
      "        slowperiod: 26\n",
      "        signalperiod: 9\n",
      "    Outputs:\n",
      "        macd\n",
      "        macdsignal\n",
      "        macdhist\n",
      "\n"
     ]
    }
   ],
   "source": [
    "help(talib.MACD)"
   ]
  },
  {
   "cell_type": "code",
   "execution_count": 42,
   "metadata": {
    "collapsed": true
   },
   "outputs": [],
   "source": [
    "macd, signal, hist = talib.MACD(close.values)"
   ]
  },
  {
   "cell_type": "code",
   "execution_count": 45,
   "metadata": {
    "scrolled": true
   },
   "outputs": [
    {
     "data": {
      "text/plain": [
       "0.0"
      ]
     },
     "execution_count": 45,
     "metadata": {},
     "output_type": "execute_result"
    }
   ],
   "source": [
    "np.max(macd[100:] - signal[100:]  - hist[100:] )"
   ]
  },
  {
   "cell_type": "code",
   "execution_count": 49,
   "metadata": {},
   "outputs": [
    {
     "data": {
      "text/plain": [
       "(3092,)"
      ]
     },
     "execution_count": 49,
     "metadata": {},
     "output_type": "execute_result"
    }
   ],
   "source": [
    "macd[np.isfinite(macd)].shape"
   ]
  },
  {
   "cell_type": "code",
   "execution_count": 51,
   "metadata": {
    "collapsed": true
   },
   "outputs": [],
   "source": [
    "signal = signal[np.isfinite(signal)]"
   ]
  },
  {
   "cell_type": "code",
   "execution_count": 55,
   "metadata": {},
   "outputs": [
    {
     "data": {
      "text/plain": [
       "array([1., 1., 1., ..., 1., 1., 1.])"
      ]
     },
     "execution_count": 55,
     "metadata": {},
     "output_type": "execute_result"
    }
   ],
   "source": [
    "2 * ((signal > 0).astype(float) - 0.5)"
   ]
  },
  {
   "cell_type": "code",
   "execution_count": 68,
   "metadata": {
    "collapsed": true
   },
   "outputs": [],
   "source": [
    "macd.fill(1)"
   ]
  },
  {
   "cell_type": "code",
   "execution_count": 69,
   "metadata": {},
   "outputs": [
    {
     "data": {
      "text/plain": [
       "array([1., 1., 1., ..., 1., 1., 1.])"
      ]
     },
     "execution_count": 69,
     "metadata": {},
     "output_type": "execute_result"
    }
   ],
   "source": [
    "macd"
   ]
  },
  {
   "cell_type": "code",
   "execution_count": null,
   "metadata": {
    "collapsed": true
   },
   "outputs": [],
   "source": []
  }
 ],
 "metadata": {
  "kernelspec": {
   "display_name": "Python 3",
   "language": "python",
   "name": "python3"
  },
  "language_info": {
   "codemirror_mode": {
    "name": "ipython",
    "version": 3
   },
   "file_extension": ".py",
   "mimetype": "text/x-python",
   "name": "python",
   "nbconvert_exporter": "python",
   "pygments_lexer": "ipython3",
   "version": "3.7.7"
  }
 },
 "nbformat": 4,
 "nbformat_minor": 2
}
